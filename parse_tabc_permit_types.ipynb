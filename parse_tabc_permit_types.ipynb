{
 "metadata": {
  "language_info": {
   "codemirror_mode": {
    "name": "ipython",
    "version": 3
   },
   "file_extension": ".py",
   "mimetype": "text/x-python",
   "name": "python",
   "nbconvert_exporter": "python",
   "pygments_lexer": "ipython3",
   "version": "3.8.1"
  },
  "orig_nbformat": 2,
  "kernelspec": {
   "name": "python381jvsc74a57bd0744188ffd39f66e48b5b2096ae7188c840ccd2c93640f65fde1532a410e60061",
   "display_name": "Python 3.8.1 64-bit ('.venv': venv)"
  },
  "metadata": {
   "interpreter": {
    "hash": "744188ffd39f66e48b5b2096ae7188c840ccd2c93640f65fde1532a410e60061"
   }
  }
 },
 "nbformat": 4,
 "nbformat_minor": 2,
 "cells": [
  {
   "cell_type": "code",
   "execution_count": 1,
   "metadata": {},
   "outputs": [],
   "source": [
    "import re\n",
    "import httpx\n",
    "from bs4 import BeautifulSoup\n",
    "import pandas as pd"
   ]
  },
  {
   "cell_type": "code",
   "execution_count": 2,
   "metadata": {},
   "outputs": [],
   "source": [
    "with httpx.Client() as client:\n",
    "    r = client.get(\"https://www.tabc.texas.gov/services/tabc-licenses-permits/tabc-license-permit-types/\")\n",
    "    if r.status_code == httpx.codes.OK:\n",
    "        page = BeautifulSoup(r.text, 'html.parser')"
   ]
  },
  {
   "cell_type": "code",
   "execution_count": 10,
   "metadata": {},
   "outputs": [
    {
     "output_type": "execute_result",
     "data": {
      "text/plain": [
       "bs4.element.Tag"
      ]
     },
     "metadata": {},
     "execution_count": 10
    }
   ],
   "source": [
    "type(page.select('div')[0])"
   ]
  },
  {
   "cell_type": "code",
   "execution_count": 3,
   "metadata": {},
   "outputs": [],
   "source": [
    "def parse_head(head):\n",
    "    head = head.strip()\n",
    "    i = head.rfind(\"(\")\n",
    "    return head[(i+1):-1], head[:(i-1)]\n",
    "\n",
    "def parse_multi_codes(code, name):\n",
    "    idx = code.find(\"if\")\n",
    "    codes = code[:idx].strip().split(\" or \")\n",
    "    names = [\n",
    "        name, \n",
    "        f\"{name} ({code[idx:].strip().split(' is a ')[1].title()})\"\n",
    "    ]\n",
    "    return zip(codes,names)\n",
    "\n",
    "def parse_cards(cards, group):\n",
    "    permit_list = list()\n",
    "    for card in cards:  \n",
    "        code, name = parse_head(card.select('div.card-header')[0].text)\n",
    "        info = card.find('p').text.replace(u'\\xa0', ' ')\n",
    "        if len(code) > 2:\n",
    "            for code, name in parse_multi_codes(code, name):\n",
    "                permit_list.append({\n",
    "                    'code': code,\n",
    "                    'name': name,\n",
    "                    'info': info,\n",
    "                    'group': group\n",
    "                })\n",
    "        else:\n",
    "            permit_list.append({\n",
    "                    'code': code,\n",
    "                    'name': name,\n",
    "                    'info': info,\n",
    "                    'group': group\n",
    "            })\n",
    "    return permit_list\n",
    "\n",
    "        \n"
   ]
  },
  {
   "cell_type": "code",
   "execution_count": 4,
   "metadata": {
    "tags": []
   },
   "outputs": [],
   "source": [
    "permit_groups = [div.text for div in page.find(\"main\").select(\"div.row\")[0].find_all(\"h2\")]\n",
    "permit_types = page.find(\"main\").select(\"div.row\")[0].select(\"div.authored-accordion\")\n",
    "permit_list = list()\n",
    "for group, accordion in zip(permit_groups, permit_types):\n",
    "    permit_list.extend(parse_cards(accordion.select(\"div.accordion-card\"), group))\n",
    "df = pd.DataFrame(permit_list)"
   ]
  },
  {
   "cell_type": "code",
   "execution_count": 8,
   "metadata": {},
   "outputs": [],
   "source": [
    "df.to_csv('tabc_permit_types.csv')"
   ]
  },
  {
   "cell_type": "code",
   "execution_count": 7,
   "metadata": {},
   "outputs": [
    {
     "output_type": "execute_result",
     "data": {
      "text/plain": [
       "zip"
      ]
     },
     "metadata": {},
     "execution_count": 7
    }
   ],
   "source": [
    "type(zip([0,1],[9,4]))"
   ]
  },
  {
   "cell_type": "code",
   "execution_count": null,
   "metadata": {},
   "outputs": [],
   "source": []
  }
 ]
}